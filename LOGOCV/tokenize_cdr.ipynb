{
 "cells": [
  {
   "cell_type": "code",
   "execution_count": 8,
   "metadata": {},
   "outputs": [],
   "source": [
    "# This notebook is to tokenize fullseq loocv data for binary classification\n",
    "# data: cdrs,mhc,label \n"
   ]
  },
  {
   "cell_type": "code",
   "execution_count": 1,
   "metadata": {},
   "outputs": [],
   "source": [
    "import os\n",
    "import pandas as pd \n",
    "from datasets import load_dataset,Dataset,DatasetDict\n",
    "from transformers import DebertaTokenizerFast"
   ]
  },
  {
   "cell_type": "code",
   "execution_count": 2,
   "metadata": {},
   "outputs": [
    {
     "name": "stderr",
     "output_type": "stream",
     "text": [
      "Special tokens have been added in the vocabulary, make sure the associated word embeddings are fine-tuned or trained.\n"
     ]
    },
    {
     "data": {
      "text/plain": [
       "'tcrhlamotifs'"
      ]
     },
     "execution_count": 2,
     "metadata": {},
     "output_type": "execute_result"
    }
   ],
   "source": [
    "max_length=288\n",
    "model_name=\"tcrhlamotifs-crossencoder\" \n",
    "tokenizer_name=model_name.split(\"-\")[0]\n",
    "tokenizer = DebertaTokenizerFast.from_pretrained(f'/data/finetuning/tokenizers/{tokenizer_name}', max_len=max_length)\n",
    "tokenizer_name"
   ]
  },
  {
   "cell_type": "code",
   "execution_count": 3,
   "metadata": {},
   "outputs": [
    {
     "data": {
      "text/plain": [
       "2"
      ]
     },
     "execution_count": 3,
     "metadata": {},
     "output_type": "execute_result"
    }
   ],
   "source": [
    "new_tokens=[\"[cdra25]\",\"[cdrb25]\"]\n",
    "tokenizer.add_tokens(list(new_tokens))"
   ]
  },
  {
   "cell_type": "code",
   "execution_count": 4,
   "metadata": {},
   "outputs": [],
   "source": [
    "def unk(v):\n",
    "    return tokenizer.unk_token if v is None else v"
   ]
  },
  {
   "cell_type": "code",
   "execution_count": 5,
   "metadata": {},
   "outputs": [],
   "source": [
    "def tokenize_batch_binary(batch):\n",
    "    batch['sequence1'] = ['[cdra1]'+unk(a1)+'[cdra2]'+unk(a2)+'[cdra25]'+unk(a25)+'[cdra3]'+unk(a3)+'[cdrb1]'+unk(b1)+'[cdrb2]'+unk(b2) + '[cdrb25]'+unk(b25) +'[cdrb3]'+unk(b3)\n",
    "                    for a1,a2,a25,a3,b1,b2,b25,b3 in \n",
    "                    zip(batch['cdr1a'], batch['cdr2a'],batch['cdr25a'], batch['cdr3a'],batch['cdr1b'], batch['cdr2b'],batch['cdr25b'],batch['cdr3b'])\n",
    "                    ]\n",
    "    batch['sequence2'] = ['[mhc]'+ mhc for mhc in \n",
    "                    batch['motif']\n",
    "                    ]\n",
    "    return tokenizer(batch['sequence1'], batch['sequence2'], padding='max_length', max_length=max_length, truncation=True)\n",
    "def tokenize_loocv_binary(loocv_path,save_path):\n",
    "    mhcs = os.listdir(loocv_path)\n",
    "    print(len(mhcs))\n",
    "    for mhc in mhcs:\n",
    "        data_files = {\n",
    "            'train': f'{loocv_path}/{mhc}/{mhc}_train.csv',\n",
    "            'eval': f'{loocv_path}/{mhc}/{mhc}_test.csv',\n",
    "            'test': f'{loocv_path}/{mhc}/{mhc}_test.csv'\n",
    "        }\n",
    "        #print(data_files)\n",
    "        dataset = load_dataset('csv', data_files=data_files)\n",
    "\n",
    "        if len(dataset['test'])==0:\n",
    "            print(f'{mhc} has no test data')\n",
    "            continue\n",
    "\n",
    "        remove_columns = list(dataset['test'].features.keys())\n",
    "        remove_columns.remove('label')\n",
    "\n",
    "        tokenized_datasets = dataset.map(tokenize_batch_binary, \n",
    "                                batched=True, \n",
    "                                num_proc=2, \n",
    "                                remove_columns=remove_columns)\n",
    "\n",
    "        tokenized_datasets.save_to_disk(f'{save_path}/{mhc}')"
   ]
  },
  {
   "cell_type": "code",
   "execution_count": 6,
   "metadata": {},
   "outputs": [],
   "source": [
    "%%capture\n",
    "ds_name='fs22_loocv_mismhc'\n",
    "ds_path=f'/data/finetuning/01-BinaryClassification/fullseq/loocv/data/{ds_name}'\n",
    "print('tokenizing All CDRs')\n",
    "ds_save_path=(f'/data/finetuning/01-BinaryClassification/fullseq/loocv/tokenized_datasets/{ds_name}_{tokenizer_name}')\n",
    "tokenize_loocv_binary(ds_path,ds_save_path) \n"
   ]
  }
 ],
 "metadata": {
  "kernelspec": {
   "display_name": "pytorch",
   "language": "python",
   "name": "python3"
  },
  "language_info": {
   "codemirror_mode": {
    "name": "ipython",
    "version": 3
   },
   "file_extension": ".py",
   "mimetype": "text/x-python",
   "name": "python",
   "nbconvert_exporter": "python",
   "pygments_lexer": "ipython3",
   "version": "3.10.13"
  }
 },
 "nbformat": 4,
 "nbformat_minor": 2
}
